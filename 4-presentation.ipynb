{
 "cells": [
  {
   "cell_type": "code",
   "execution_count": null,
   "id": "c5bf021e",
   "metadata": {},
   "outputs": [],
   "source": [
    "import geopandas as gpd\n",
    "import locale\n",
    "import pandas as pd\n",
    "import plotly.express as px"
   ]
  },
  {
   "cell_type": "code",
   "execution_count": null,
   "id": "3d1ac530",
   "metadata": {},
   "outputs": [],
   "source": [
    "locale.setlocale(locale.LC_TIME, 'pt_BR.UTF-8')"
   ]
  },
  {
   "cell_type": "code",
   "execution_count": null,
   "id": "70286467",
   "metadata": {},
   "outputs": [],
   "source": [
    "df = pd.read_csv('sources/results.csv')"
   ]
  },
  {
   "cell_type": "code",
   "execution_count": null,
   "id": "f61b01a5",
   "metadata": {},
   "outputs": [],
   "source": [
    "df['Mês'] = pd.to_datetime(df['month'], format = '%Y%m').dt.strftime('%b/%Y').str.capitalize()"
   ]
  },
  {
   "cell_type": "code",
   "execution_count": null,
   "id": "3a622cb2",
   "metadata": {},
   "outputs": [],
   "source": [
    "df = df.iloc[:, [0, 5, 1, 2, 3, 4]]"
   ]
  },
  {
   "cell_type": "code",
   "execution_count": null,
   "id": "86177ba4",
   "metadata": {},
   "outputs": [],
   "source": [
    "df.columns = ['Mês (ordenação)', 'Mês', 'UF', 'Código', 'Assinaturas', 'Peso']"
   ]
  },
  {
   "cell_type": "code",
   "execution_count": null,
   "id": "62a70ec2",
   "metadata": {},
   "outputs": [],
   "source": [
    "gdf_simplified = gpd.read_file('sources/basemap-simplified.geojson')"
   ]
  },
  {
   "cell_type": "code",
   "execution_count": null,
   "id": "e6056ae6",
   "metadata": {},
   "outputs": [],
   "source": [
    "bounds = gdf_simplified.total_bounds"
   ]
  },
  {
   "cell_type": "code",
   "execution_count": null,
   "id": "795862f6",
   "metadata": {},
   "outputs": [],
   "source": [
    "fig_map = px.choropleth(\n",
    "\tdf,\n",
    "\tgeojson = gdf_simplified,\n",
    "\tlocations = 'Código', # Coluna no DataFrame para cruzamento com o GeoJSON\n",
    "    featureidkey = 'properties.code', # Chave no GeoJON para cruzmaneto com o DataFrame\n",
    "    color = 'Peso',\n",
    "\thover_name = 'UF',\n",
    "\thover_data = {\n",
    "\t\t'Código': False,\n",
    "\t\t'Assinaturas': True,\n",
    "\t\t'Peso': ':.2f'\n",
    "\t},\n",
    "\tanimation_frame = 'Mês',\n",
    "\tprojection = 'equirectangular',\n",
    "\tcolor_continuous_scale = 'Reds',\n",
    "\trange_color=[df['Peso'].quantile(0.05), df['Peso'].quantile(0.95)]\n",
    ")\n",
    "\n",
    "fig_map.update_geos(\n",
    "\tfitbounds = 'locations',\n",
    "\tvisible = False\n",
    ")\n",
    "\n",
    "fig_map.update_layout(\n",
    "\tcoloraxis_colorbar = dict(\n",
    "\t\ttitle = 'Peso',\n",
    "\t\ttickformat = '.2f'\n",
    "\t)\n",
    ")\n",
    "\n",
    "fig_map.show()"
   ]
  },
  {
   "cell_type": "code",
   "execution_count": null,
   "id": "9b4aa15e",
   "metadata": {},
   "outputs": [],
   "source": [
    "# fig.write_html('presentation.html', include_plotlyjs = 'cdn', full_html = True)"
   ]
  },
  {
   "cell_type": "code",
   "execution_count": null,
   "id": "4337c895",
   "metadata": {},
   "outputs": [],
   "source": [
    "fig_bar = px.bar(\n",
    "\tdf,\n",
    "\tx = 'Assinaturas',\n",
    "\ty = 'UF',\n",
    "\tcolor = 'UF',\n",
    "\tanimation_frame = 'Mês',\n",
    "\torientation = 'h',\n",
    "\topacity = .75,\n",
    "\thover_data = {'Assinaturas': ':d'}\n",
    ")\n",
    "\n",
    "fig_bar.update_layout(\n",
    "\tyaxis = {'categoryorder': 'total ascending'},\n",
    "\tshowlegend = False,\n",
    "\tbargap = 0.25\n",
    ")\n",
    "\n",
    "fig_bar.show()\n"
   ]
  }
 ],
 "metadata": {
  "kernelspec": {
   "display_name": ".venv",
   "language": "python",
   "name": "python3"
  },
  "language_info": {
   "codemirror_mode": {
    "name": "ipython",
    "version": 3
   },
   "file_extension": ".py",
   "mimetype": "text/x-python",
   "name": "python",
   "nbconvert_exporter": "python",
   "pygments_lexer": "ipython3",
   "version": "3.12.7"
  }
 },
 "nbformat": 4,
 "nbformat_minor": 5
}
