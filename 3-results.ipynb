{
 "cells": [
  {
   "cell_type": "code",
   "execution_count": null,
   "id": "244f611b",
   "metadata": {},
   "outputs": [],
   "source": [
    "import pandas as pd\n",
    "\n",
    "from pathlib import Path"
   ]
  },
  {
   "cell_type": "code",
   "execution_count": null,
   "id": "0c56c729",
   "metadata": {},
   "outputs": [],
   "source": [
    "def set_df_month(df_uf, customer_file):\n",
    "\tdf = pd.read_csv(customer_file)\n",
    "\tdf['ddd'].astype(int)\n",
    "\t\n",
    "\tdf_merged = df.merge(df_uf, how = 'inner', on = 'ddd')\n",
    "\tdf_merged = df_merged.iloc[:, :5]\n",
    "\tdf_grouped = df_merged.groupby(['month', 'uf', 'code'], as_index = False)['qty'].sum()\n",
    "\n",
    "\treturn df_grouped"
   ]
  },
  {
   "cell_type": "code",
   "execution_count": null,
   "id": "799a9e27",
   "metadata": {},
   "outputs": [],
   "source": [
    "def set_weight(qty, min_qty, max_qty):\n",
    "\tif min_qty == max_qty:\n",
    "\t\treturn 0\n",
    "\t\n",
    "\treturn (qty - min_qty) / (max_qty - min_qty)"
   ]
  },
  {
   "cell_type": "code",
   "execution_count": null,
   "id": "d97f5125",
   "metadata": {},
   "outputs": [],
   "source": [
    "def set_dataframe():\n",
    "\tdf_uf = pd.read_csv('sources/uf-ddd.csv', sep = ';')\n",
    "\tpath = Path('sources/customer-data')\n",
    "\tdataframes = []\n",
    "\n",
    "\tfor customer_file in path.glob('*.csv'):\n",
    "\t\tdf_month = set_df_month(df_uf, customer_file)\n",
    "\t\tdataframes.append(df_month)\n",
    "\n",
    "\tdf_concat = pd.concat(dataframes, ignore_index = True)\n",
    "\tmin_qty = df_concat['qty'].min()\n",
    "\tmax_qty = df_concat['qty'].max()\n",
    "\n",
    "\tdf_concat['weight'] = df_concat['qty'].apply(lambda x: set_weight(x, min_qty, max_qty))\n",
    "\n",
    "\treturn df_concat"
   ]
  },
  {
   "cell_type": "code",
   "execution_count": null,
   "id": "b96890d4",
   "metadata": {},
   "outputs": [],
   "source": [
    "df = set_dataframe()"
   ]
  },
  {
   "cell_type": "code",
   "execution_count": null,
   "id": "890651a8",
   "metadata": {},
   "outputs": [],
   "source": [
    "df.to_csv('sources/results.csv', index = False)"
   ]
  }
 ],
 "metadata": {
  "kernelspec": {
   "display_name": ".venv",
   "language": "python",
   "name": "python3"
  },
  "language_info": {
   "codemirror_mode": {
    "name": "ipython",
    "version": 3
   },
   "file_extension": ".py",
   "mimetype": "text/x-python",
   "name": "python",
   "nbconvert_exporter": "python",
   "pygments_lexer": "ipython3",
   "version": "3.12.7"
  }
 },
 "nbformat": 4,
 "nbformat_minor": 5
}
