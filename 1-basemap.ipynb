{
 "cells": [
  {
   "cell_type": "code",
   "execution_count": null,
   "id": "c5bf021e",
   "metadata": {},
   "outputs": [],
   "source": [
    "import geopandas"
   ]
  },
  {
   "cell_type": "code",
   "execution_count": null,
   "id": "69a86a2d",
   "metadata": {},
   "outputs": [],
   "source": [
    "def set_basemap():\n",
    "\tgdf = geopandas.read_file('sources/ibge/BR_UF_2024/BR_UF_2024.shp')\n",
    "\tgdf = gdf.iloc[:, [0, 2, 7]]\n",
    "\tgdf.columns = ['code', 'uf', 'geometry']\n",
    "\n",
    "\tgdf.to_file('sources/basemap.geojson', driver = 'GeoJSON')\n",
    "\tgdf['geometry'] = gdf['geometry'].simplify(tolerance = 0.05, preserve_topology = True)\n",
    "\tgdf.to_file('sources/basemap-simplified.geojson', driver = 'GeoJSON')"
   ]
  },
  {
   "cell_type": "code",
   "execution_count": null,
   "id": "cd740ed8",
   "metadata": {},
   "outputs": [],
   "source": [
    "set_basemap()"
   ]
  }
 ],
 "metadata": {
  "kernelspec": {
   "display_name": ".venv",
   "language": "python",
   "name": "python3"
  },
  "language_info": {
   "codemirror_mode": {
    "name": "ipython",
    "version": 3
   },
   "file_extension": ".py",
   "mimetype": "text/x-python",
   "name": "python",
   "nbconvert_exporter": "python",
   "pygments_lexer": "ipython3",
   "version": "3.12.7"
  }
 },
 "nbformat": 4,
 "nbformat_minor": 5
}
