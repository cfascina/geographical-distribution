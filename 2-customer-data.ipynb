{
 "cells": [
  {
   "cell_type": "code",
   "execution_count": null,
   "id": "c5bf021e",
   "metadata": {},
   "outputs": [],
   "source": [
    "import datetime\n",
    "import os\n",
    "import pandas as pd\n",
    "\n",
    "from google.cloud import bigquery\n",
    "from google.oauth2 import service_account\n",
    "from dotenv import load_dotenv"
   ]
  },
  {
   "cell_type": "code",
   "execution_count": null,
   "id": "55847c64",
   "metadata": {},
   "outputs": [],
   "source": [
    "def set_credential(project_id, gcp_credentials):\n",
    "\tcredentials = service_account.Credentials.from_service_account_file(gcp_credentials)\n",
    "\tclient = bigquery.Client(project = project_id, credentials = credentials)\n",
    "\n",
    "\treturn client"
   ]
  },
  {
   "cell_type": "code",
   "execution_count": null,
   "id": "69a86a2d",
   "metadata": {},
   "outputs": [],
   "source": [
    "def get_dates(client, project_id, table_id):\n",
    "\tsql = f\"SELECT MIN(`date`), MAX(`date`)FROM `{project_id}.base.{table_id}`;\"\n",
    "\tquery = client.query(sql)\n",
    "\tresult = query.result()\n",
    "\trow = next(result)\n",
    "\n",
    "\treturn row[0], row[1]"
   ]
  },
  {
   "cell_type": "code",
   "execution_count": null,
   "id": "4cc44dfd",
   "metadata": {},
   "outputs": [],
   "source": [
    "def get_query_dates(min_date, max_date):\n",
    "\tdates = []\n",
    "\tmonth_first_day = min_date.replace(day = 1)\n",
    "\n",
    "\twhile month_first_day <= max_date:\n",
    "\t\tif month_first_day.month == 12:\n",
    "\t\t\tnext_month_first_day = datetime.date(month_first_day.year + 1, 1, 1)\n",
    "\t\telse:\n",
    "\t\t\tnext_month_first_day = datetime.date(month_first_day.year, month_first_day.month + 1, 1)\n",
    "\n",
    "\t\tday_query = next_month_first_day - datetime.timedelta(days = 1)\n",
    "\n",
    "\t\tif day_query >= min_date and day_query <= max_date:\n",
    "\t\t\tdates.append(day_query)\n",
    "\n",
    "\t\tmonth_first_day = next_month_first_day\n",
    "\n",
    "\treturn dates"
   ]
  },
  {
   "cell_type": "code",
   "execution_count": null,
   "id": "fcf3aff7",
   "metadata": {},
   "outputs": [],
   "source": [
    "def get_data(client, project_id, table_id, date):\n",
    "\tdate = date.strftime('%Y-%m-%d')\n",
    "\t\n",
    "\tsql = f\"\"\"\n",
    "\t\tSELECT\n",
    "\t\t\tSAFE_CAST(LEFT(phone, 2) AS INT64) AS ddd,\n",
    "\t\t\tCOUNT(phone) as qty\n",
    "\t\tFROM `{project_id}.base.{table_id}`\n",
    "\t\tWHERE\n",
    "\t\t\t`date` = '{date}'\n",
    "\t\t\tAND fn_is_active IS TRUE\n",
    "\t\t\tAND plan_provider_id IS NOT NULL\n",
    "\t\t\tAND REGEXP_CONTAINS(phone, r'^[0-9]{{11}}$')\n",
    "\t\tGROUP BY 1\n",
    "\t\tORDER BY 1;\n",
    "\t\"\"\"\n",
    "\t\n",
    "\tquery = client.query(sql)\n",
    "\tresult = query.result()\n",
    "\n",
    "\treturn result"
   ]
  },
  {
   "cell_type": "code",
   "execution_count": null,
   "id": "36cd3e19",
   "metadata": {},
   "outputs": [],
   "source": [
    "load_dotenv()"
   ]
  },
  {
   "cell_type": "code",
   "execution_count": null,
   "id": "cd740ed8",
   "metadata": {},
   "outputs": [],
   "source": [
    "project_id = os.getenv('PROJECT_ID')\n",
    "table_id = os.getenv('TABLE_ID')\n",
    "gcp_credentials = os.getenv('GCP_CREDENTIALS')"
   ]
  },
  {
   "cell_type": "code",
   "execution_count": null,
   "id": "d0b46b64",
   "metadata": {},
   "outputs": [],
   "source": [
    "client = set_credential(project_id, gcp_credentials)"
   ]
  },
  {
   "cell_type": "code",
   "execution_count": null,
   "id": "c877b999",
   "metadata": {},
   "outputs": [],
   "source": [
    "min_date, max_date = get_dates(client, project_id, table_id)"
   ]
  },
  {
   "cell_type": "code",
   "execution_count": null,
   "id": "258b04fb",
   "metadata": {},
   "outputs": [],
   "source": [
    "query_dates = get_query_dates(min_date, max_date)"
   ]
  },
  {
   "cell_type": "code",
   "execution_count": null,
   "id": "126a4855",
   "metadata": {},
   "outputs": [],
   "source": [
    "for date in query_dates:\n",
    "\tdata = []\n",
    "\tresult = get_data(client, project_id, table_id, date)\n",
    "\t\n",
    "\tfor row in result:\n",
    "\t\tdata.append(dict(row))\n",
    "\t\n",
    "\tmonth = date.strftime('%Y%m')\n",
    "\tdf = pd.DataFrame(data)\n",
    "\tdf['month'] = month\n",
    "\tdf = df.iloc[:, [2, 0, 1]]\n",
    "\n",
    "\tdf.to_csv(f\"sources/customer-data/{month}.csv\", index = False)"
   ]
  }
 ],
 "metadata": {
  "kernelspec": {
   "display_name": ".venv",
   "language": "python",
   "name": "python3"
  },
  "language_info": {
   "codemirror_mode": {
    "name": "ipython",
    "version": 3
   },
   "file_extension": ".py",
   "mimetype": "text/x-python",
   "name": "python",
   "nbconvert_exporter": "python",
   "pygments_lexer": "ipython3",
   "version": "3.12.7"
  }
 },
 "nbformat": 4,
 "nbformat_minor": 5
}
